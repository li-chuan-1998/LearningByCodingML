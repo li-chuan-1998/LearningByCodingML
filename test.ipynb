{
 "cells": [
  {
   "cell_type": "markdown",
   "metadata": {},
   "source": [
    "### Model Comparison"
   ]
  },
  {
   "cell_type": "code",
   "execution_count": null,
   "metadata": {},
   "outputs": [],
   "source": [
    "import numpy as np\n",
    "from sklearn.linear_model import SGDRegressor\n",
    "\n",
    "np.random.seed(42)  # to make this code example reproducible\n",
    "m = 100  # number of instances\n",
    "X = 2 * np.random.rand(m, 1)  # column vector\n",
    "y = 4 + 3 * X + np.random.randn(m, 1)  # column vector\n",
    "\n",
    "sgd_reg = SGDRegressor(max_iter=1000, tol=1e-5, penalty=None, eta0=0.01,\n",
    "                       n_iter_no_change=100, random_state=42)\n",
    "sgd_reg.fit(X, y.ravel())  # y.ravel() because fit() expects 1D targets\n",
    "print(sgd_reg.intercept_, sgd_reg.coef_)\n",
    "sgd_reg.predict([[2]])"
   ]
  },
  {
   "cell_type": "code",
   "execution_count": 47,
   "metadata": {},
   "outputs": [
    {
     "name": "stdout",
     "output_type": "stream",
     "text": [
      "Comparing on Linear Dataset:\n",
      "\n",
      "MSE for your model: 1.2923379241011463 Parameters: Bias: 4.9935, Params: [4.1949]\n",
      "MSE for SGDRegressor: 1.058862249947077 Params: [3.92229742] [3.08099177]\n",
      "SGDRegressor performed better!\n",
      "\n",
      "Comparing on Quadratic Dataset:\n",
      "\n",
      "MSE for your model: 2.7426611822792815 Parameters: Bias: 2.4248, Params: [2.245]\n",
      "MSE for SGDRegressor: 2.1010046949643666 Params: [3.50214622] [0.89047408]\n",
      "SGDRegressor performed better!\n",
      "\n",
      "Comparing on Synthetic Dataset:\n",
      "\n",
      "MSE for your model: 5946.416509700665 Parameters: Bias: -471.43, Params: [352.56, 129.07, 407.25, -46.732, 164.54]\n",
      "MSE for SGDRegressor: 0.010214116783737659 Params: [0.00031963] [86.22156142 49.71875658 99.50565907 14.21545773 53.55225099]\n",
      "SGDRegressor performed better!\n"
     ]
    }
   ],
   "source": [
    "import numpy as np\n",
    "from LinearModel import LinearRegressionModel\n",
    "from sklearn.datasets import make_regression\n",
    "from sklearn.model_selection import train_test_split\n",
    "from sklearn.linear_model import SGDRegressor\n",
    "from sklearn.metrics import mean_squared_error\n",
    "\n",
    "# np.random.seed(42)  # to make this code example reproducible\n",
    "\n",
    "def compare_models(X_train, y_train, X_test, y_test):\n",
    "    \"\"\"\n",
    "    Compares the performance of the custom LinearRegressionModel and the SGDRegressor from sklearn.\n",
    "    \n",
    "    Args:\n",
    "    - X_train, y_train: Training data and labels.\n",
    "    - X_test, y_test: Testing data and labels.\n",
    "    \"\"\"\n",
    "    # Training the custom model\n",
    "    my_model = LinearRegressionModel(inputs=X_train, labels=y_train, validation_split=0.1)\n",
    "    my_model.train_gradient_descent(strategy=\"mBGD\", lr=0.01, epochs=100, batch_size=100)\n",
    "\n",
    "    # Training the SGDRegressor from sklearn\n",
    "    sgd_reg = SGDRegressor(max_iter=10000, tol=1e-5, penalty=None, eta0=0.01, n_iter_no_change=5, random_state=42)\n",
    "    sgd_reg.fit(X_train, y_train.ravel())  # y.ravel() because fit() expects 1D targets\n",
    "\n",
    "    # Predictions\n",
    "    y_pred_my_model = my_model.predict(X_test, scaled=True)  # Assuming the data should be scaled\n",
    "    y_pred_sgd_reg = sgd_reg.predict(X_test).reshape(-1, 1)  # Reshaping to match the shape\n",
    "\n",
    "    # Calculate MSE\n",
    "    mse_my_model = mean_squared_error(y_test, y_pred_my_model)\n",
    "    mse_sgd_reg = mean_squared_error(y_test, y_pred_sgd_reg)\n",
    "\n",
    "    # Print results\n",
    "    print(f\"\\nMSE for your model: {mse_my_model} {my_model}\")\n",
    "    print(f\"MSE for SGDRegressor: {mse_sgd_reg} Params: {sgd_reg.intercept_} {sgd_reg.coef_}\")\n",
    "    \n",
    "    # Determine the better model\n",
    "    if mse_my_model < mse_sgd_reg:\n",
    "        print(\"Your model performed better!\")\n",
    "    elif mse_my_model > mse_sgd_reg:\n",
    "        print(\"SGDRegressor performed better!\")\n",
    "    else:\n",
    "        print(\"Both models have the same performance!\")\n",
    "\n",
    "\n",
    "# Linear dataset\n",
    "print(\"Comparing on Linear Dataset:\")\n",
    "X_linear = 2 * np.random.rand(500, 1)\n",
    "y_linear = 4 + 3 * X_linear + np.random.randn(500, 1)\n",
    "X_train, X_test, y_train, y_test = train_test_split(X_linear, y_linear, test_size=0.2, random_state=42)\n",
    "compare_models(X_train, y_train, X_test, y_test)\n",
    "\n",
    "# Quadratic dataset\n",
    "print(\"\\nComparing on Quadratic Dataset:\")\n",
    "X_quad = 6 * np.random.rand(200, 1) - 3\n",
    "y_quad = 0.5 * X_quad ** 2 + X_quad + 2 + np.random.randn(200, 1)\n",
    "X_train, X_test, y_train, y_test = train_test_split(X_quad, y_quad, test_size=0.2, random_state=42)\n",
    "compare_models(X_train, y_train, X_test, y_test)\n",
    "\n",
    "# Synthetic dataset\n",
    "print(\"\\nComparing on Synthetic Dataset:\")\n",
    "X_syn, y_syn = make_regression(n_samples=5000, n_features=5, noise=0.1, random_state=42)\n",
    "y_syn = y_syn.reshape(-1, 1)\n",
    "X_train, X_test, y_train, y_test = train_test_split(X_syn, y_syn, test_size=0.2, random_state=42)\n",
    "compare_models(X_train, y_train, X_test, y_test)"
   ]
  }
 ],
 "metadata": {
  "kernelspec": {
   "display_name": "ml",
   "language": "python",
   "name": "python3"
  },
  "language_info": {
   "codemirror_mode": {
    "name": "ipython",
    "version": 3
   },
   "file_extension": ".py",
   "mimetype": "text/x-python",
   "name": "python",
   "nbconvert_exporter": "python",
   "pygments_lexer": "ipython3",
   "version": "3.9.18"
  }
 },
 "nbformat": 4,
 "nbformat_minor": 2
}
