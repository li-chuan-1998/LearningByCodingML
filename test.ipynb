{
 "cells": [
  {
   "cell_type": "markdown",
   "metadata": {},
   "source": [
    "### Linear Data"
   ]
  },
  {
   "cell_type": "code",
   "execution_count": null,
   "metadata": {},
   "outputs": [],
   "source": [
    "import numpy as np\n",
    "from LinearModel import LinearRegresionModel\n",
    "from sklearn.preprocessing import StandardScaler\n",
    "\n",
    "np.random.seed(42)  # to make this code example reproducible\n",
    "m = 100  # number of instances\n",
    "X = 2 * np.random.rand(m, 1)  # column vector\n",
    "y = 4 + 3 * X + np.random.randn(m, 1)  # column vector\n",
    "\n",
    "model = LinearRegresionModel(X, y)\n",
    "print(model.normal_eqn().predict([[2]]))\n",
    "print(model.pseudoinverse().predict([[2]]))\n",
    "print(model.GD(verbose=0).predict([[2]]))\n",
    "print(model.GD(strategy=\"SGD\",verbose=1).predict([[2]]))\n",
    "print(model.GD(strategy=\"mBGD\",verbose=1).predict([[2]]))\n",
    "print(model.test())"
   ]
  },
  {
   "cell_type": "code",
   "execution_count": null,
   "metadata": {},
   "outputs": [],
   "source": [
    "from sklearn.linear_model import SGDRegressor\n",
    "\n",
    "sgd_reg = SGDRegressor(max_iter=1000, tol=1e-5, penalty=None, eta0=0.01,\n",
    "                       n_iter_no_change=100, random_state=42)\n",
    "sgd_reg.fit(X, y.ravel())  # y.ravel() because fit() expects 1D targets\n",
    "print(sgd_reg.intercept_, sgd_reg.coef_)\n",
    "sgd_reg.predict([[2]])"
   ]
  },
  {
   "cell_type": "code",
   "execution_count": 1,
   "metadata": {},
   "outputs": [
    {
     "name": "stdout",
     "output_type": "stream",
     "text": [
      "Running mBGD Algo with a batch size of 100\n",
      "[[26.95917251]\n",
      " [31.90402501]\n",
      " [32.37516758]\n",
      " [91.7457024 ]\n",
      " [20.73510245]\n",
      " [37.11734841]\n",
      " [16.59384586]\n",
      " [55.14220891]\n",
      " [47.56358478]\n",
      " [16.56033085]]\n",
      "[[-54.04329655]\n",
      " [  9.42388657]\n",
      " [-67.50521571]\n",
      " [347.08962042]\n",
      " [  4.58183663]\n",
      " [132.69165233]\n",
      " [-44.03141039]\n",
      " [170.58075862]\n",
      " [  7.86806858]\n",
      " [-84.08175913]]\n",
      "[[-54.33993682]\n",
      " [  9.43281056]\n",
      " [-67.47112052]\n",
      " [347.20694834]\n",
      " [  4.60517783]\n",
      " [132.49847765]\n",
      " [-44.03824716]\n",
      " [170.45790111]\n",
      " [  7.93564109]\n",
      " [-84.06213641]]\n",
      "MSE for your model: 15858.42517605751 Parameters: Bias: -101.84, Params: [89.64, 25.983, 108.34, -24.828, 37.329]\n",
      "MSE for SGDRegressor: 0.010219601978562807 Params: [0.00153687] [86.22204764 49.71792566 99.50530551 14.21605804 53.55142189]\n",
      "SGDRegressor performed better!\n"
     ]
    }
   ],
   "source": [
    "import numpy as np\n",
    "from LinearModel import LinearRegresionModel\n",
    "from sklearn.datasets import make_regression\n",
    "from sklearn.model_selection import train_test_split\n",
    "from sklearn.linear_model import SGDRegressor\n",
    "from sklearn.metrics import mean_squared_error\n",
    "\n",
    "# np.random.seed(42)  # to make this code example reproducible\n",
    "\n",
    "# Generate synthetic linear dataset\n",
    "m = 500  # number of instances\n",
    "X = 2 * np.random.rand(m, 1)  # column vector\n",
    "y = 4 + 3 * X + np.random.randn(m, 1)  # column vector\n",
    "\n",
    "# Generate synthetic quadratic dataset\n",
    "m = 200\n",
    "X = 6 * np.random.rand(m, 1) - 3\n",
    "y = 0.5 * X ** 2 + X + 2 + np.random.randn(m, 1)\n",
    "\n",
    "# Generate synthetic dataset\n",
    "X, y = make_regression(n_samples=5000, n_features=5, noise=0.1, random_state=42)\n",
    "y = y.reshape(-1, 1)  # Reshaping to match the shape expected by your model\n",
    "\n",
    "# Split the dataset into training and test sets\n",
    "X_train, X_test, y_train, y_test = train_test_split(X, y, test_size=0.2, random_state=42)\n",
    "\n",
    "# Training your model\n",
    "my_model = LinearRegresionModel(inputs=X_train, labels=y_train, validation_split=0.1)\n",
    "my_model = my_model.GD(strategy=\"mBGD\", verbose=0, batch_size=100, epsilon=1e-10, n_iter_no_change=5)\n",
    "# my_model = my_model.pseudoinverse()\n",
    "\n",
    "# Training the SGDRegressor from sklearn\n",
    "sgd_reg = SGDRegressor(max_iter=10000, tol=1e-5, penalty=None, eta0=0.01,\n",
    "                       n_iter_no_change=100, random_state=42)\n",
    "sgd_reg.fit(X_train, y_train.ravel())  # y.ravel() because fit() expects 1D targets\n",
    "\n",
    "# Testing and comparing performance\n",
    "y_pred_my_model = my_model.predict(X_test)\n",
    "y_pred_sgd_reg = sgd_reg.predict(X_test).reshape(-1, 1)  # Reshaping to match the shape\n",
    "\n",
    "print(y_pred_my_model[:10])\n",
    "print(y_pred_sgd_reg[:10])\n",
    "print(y_test[:10])\n",
    "\n",
    "mse_my_model = mean_squared_error(y_test, y_pred_my_model)\n",
    "mse_sgd_reg = mean_squared_error(y_test, y_pred_sgd_reg)\n",
    "\n",
    "print(f\"MSE for your model: {mse_my_model} {my_model}\")\n",
    "print(f\"MSE for SGDRegressor: {mse_sgd_reg} Params: {sgd_reg.intercept_} {sgd_reg.coef_}\")\n",
    "\n",
    "if mse_my_model < mse_sgd_reg:\n",
    "    print(\"Your model performed better!\")\n",
    "elif mse_my_model > mse_sgd_reg:\n",
    "    print(\"SGDRegressor performed better!\")\n",
    "else:\n",
    "    print(\"Both models have the same performance!\")\n"
   ]
  },
  {
   "cell_type": "code",
   "execution_count": null,
   "metadata": {},
   "outputs": [],
   "source": [
    "t = lambda lr: 5 / (lr + 50)\n",
    "\n",
    "t(0.01*10000)"
   ]
  },
  {
   "cell_type": "markdown",
   "metadata": {},
   "source": [
    "### Non-linear Data"
   ]
  },
  {
   "cell_type": "code",
   "execution_count": null,
   "metadata": {},
   "outputs": [],
   "source": [
    "import numpy as np\n",
    "from LinearModel import LinearRegresionModel\n",
    "from sklearn.preprocessing import PolynomialFeatures\n",
    "from sklearn.linear_model import LinearRegression\n",
    "\n",
    "np.random.seed(42)\n",
    "m = 100\n",
    "X = 6 * np.random.rand(m, 1) - 3\n",
    "y = 0.5 * X ** 2 + X + 2 + np.random.randn(m, 1)\n",
    "\n",
    "poly_features = PolynomialFeatures(degree=2, include_bias=False)\n",
    "X_poly = poly_features.fit_transform(X)\n",
    "\n",
    "print(\"Sample Data:\",X[0],X_poly[0])\n",
    "\n",
    "# Scikit Learn Library\n",
    "lin_reg = LinearRegression()\n",
    "lin_reg.fit(X_poly, y)\n",
    "print(\"Scikit Learn:\\n\",lin_reg.intercept_, lin_reg.coef_)\n",
    "\n",
    "model = LinearRegresionModel(X_poly, y, lr=0.1)\n",
    "model.test()"
   ]
  }
 ],
 "metadata": {
  "kernelspec": {
   "display_name": "ml",
   "language": "python",
   "name": "python3"
  },
  "language_info": {
   "codemirror_mode": {
    "name": "ipython",
    "version": 3
   },
   "file_extension": ".py",
   "mimetype": "text/x-python",
   "name": "python",
   "nbconvert_exporter": "python",
   "pygments_lexer": "ipython3",
   "version": "3.9.18"
  }
 },
 "nbformat": 4,
 "nbformat_minor": 2
}
